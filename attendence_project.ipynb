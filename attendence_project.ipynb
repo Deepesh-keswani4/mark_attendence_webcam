{
 "cells": [
  {
   "cell_type": "code",
   "execution_count": 26,
   "metadata": {},
   "outputs": [],
   "source": [
    "import cv2\n",
    "import numpy as np\n",
    "import face_recognition\n",
    "import os\n",
    "from datetime import datetime"
   ]
  },
  {
   "cell_type": "code",
   "execution_count": 27,
   "metadata": {},
   "outputs": [],
   "source": [
    " path = 'attendenceimage'"
   ]
  },
  {
   "cell_type": "code",
   "execution_count": 28,
   "metadata": {},
   "outputs": [
    {
     "name": "stdout",
     "output_type": "stream",
     "text": [
      "['deepesh.jpg', 'mohit.jpg', 'toshit.jpg']\n"
     ]
    }
   ],
   "source": [
    "images=[]\n",
    "classnames=[]\n",
    "myList = os.listdir(path)\n",
    "print(myList)\n",
    "\n",
    "\n"
   ]
  },
  {
   "cell_type": "code",
   "execution_count": 29,
   "metadata": {},
   "outputs": [
    {
     "name": "stdout",
     "output_type": "stream",
     "text": [
      "['deepesh', 'mohit', 'toshit']\n"
     ]
    }
   ],
   "source": [
    "for cls in myList:\n",
    "    curImg = cv2.imread(f'{path}/{cls}')\n",
    "    images.append(curImg)\n",
    "    classnames.append(os.path.splitext(cls)[0])\n",
    "print(classnames)"
   ]
  },
  {
   "cell_type": "code",
   "execution_count": 30,
   "metadata": {},
   "outputs": [
    {
     "name": "stdout",
     "output_type": "stream",
     "text": [
      "Encoding completes\n"
     ]
    }
   ],
   "source": [
    "def findEncoding(images):\n",
    "    encodeList = []\n",
    "    for img in images:\n",
    "        img = cv2.cvtColor(img,cv2.COLOR_BGR2RGB)\n",
    "        encode = face_recognition.face_encodings(img)[0]\n",
    "        encodeList.append(encode)\n",
    "    return encodeList\n",
    "\n",
    "def markAttendence(name):\n",
    "    with open('attendence.csv','r+') as f:\n",
    "        myDataList = f.readline()\n",
    "        nameList = []\n",
    "        for line in myDataList:\n",
    "            entry = line.split(',')\n",
    "            nameList.append(entry[0])\n",
    "        if name not in nameList:\n",
    "            now = datetime.now()\n",
    "            dtString = now.strftime('%H:%M:%S')\n",
    "            f.writelines(f'n{name},{dtString}')\n",
    "\n",
    "\n",
    "    \n",
    "\n",
    "encodeListkmown = findEncoding(images)\n",
    "print('Encoding completes')\n",
    "\n",
    "\n",
    "\n",
    " "
   ]
  },
  {
   "cell_type": "code",
   "execution_count": 33,
   "metadata": {},
   "outputs": [
    {
     "ename": "KeyboardInterrupt",
     "evalue": "",
     "output_type": "error",
     "traceback": [
      "\u001b[0;31m---------------------------------------------------------------------------\u001b[0m",
      "\u001b[0;31mKeyboardInterrupt\u001b[0m                         Traceback (most recent call last)",
      "\u001b[1;32m/home/deepesh/Documents/face_recognition/attendence_project.ipynb Cell 6'\u001b[0m in \u001b[0;36m<cell line: 4>\u001b[0;34m()\u001b[0m\n\u001b[1;32m      <a href='vscode-notebook-cell:/home/deepesh/Documents/face_recognition/attendence_project.ipynb#ch0000007?line=6'>7</a>\u001b[0m imgS \u001b[39m=\u001b[39m cv2\u001b[39m.\u001b[39mcvtColor(imgS, cv2\u001b[39m.\u001b[39mCOLOR_BGR2RGB)\n\u001b[1;32m      <a href='vscode-notebook-cell:/home/deepesh/Documents/face_recognition/attendence_project.ipynb#ch0000007?line=8'>9</a>\u001b[0m facesCurFrame \u001b[39m=\u001b[39m face_recognition\u001b[39m.\u001b[39mface_locations(imgS)\n\u001b[0;32m---> <a href='vscode-notebook-cell:/home/deepesh/Documents/face_recognition/attendence_project.ipynb#ch0000007?line=9'>10</a>\u001b[0m encodesCurFrame \u001b[39m=\u001b[39m face_recognition\u001b[39m.\u001b[39;49mface_encodings(imgS,facesCurFrame)\n\u001b[1;32m     <a href='vscode-notebook-cell:/home/deepesh/Documents/face_recognition/attendence_project.ipynb#ch0000007?line=11'>12</a>\u001b[0m \u001b[39mfor\u001b[39;00m encodeFace,faceLoc \u001b[39min\u001b[39;00m \u001b[39mzip\u001b[39m(encodesCurFrame,facesCurFrame):\n\u001b[1;32m     <a href='vscode-notebook-cell:/home/deepesh/Documents/face_recognition/attendence_project.ipynb#ch0000007?line=12'>13</a>\u001b[0m     matches \u001b[39m=\u001b[39m face_recognition\u001b[39m.\u001b[39mcompare_faces(encodeListkmown,encodeFace)\n",
      "File \u001b[0;32m~/.local/lib/python3.8/site-packages/face_recognition/api.py:214\u001b[0m, in \u001b[0;36mface_encodings\u001b[0;34m(face_image, known_face_locations, num_jitters, model)\u001b[0m\n\u001b[1;32m    <a href='file:///home/deepesh/.local/lib/python3.8/site-packages/face_recognition/api.py?line=203'>204</a>\u001b[0m \u001b[39m\"\"\"\u001b[39;00m\n\u001b[1;32m    <a href='file:///home/deepesh/.local/lib/python3.8/site-packages/face_recognition/api.py?line=204'>205</a>\u001b[0m \u001b[39mGiven an image, return the 128-dimension face encoding for each face in the image.\u001b[39;00m\n\u001b[1;32m    <a href='file:///home/deepesh/.local/lib/python3.8/site-packages/face_recognition/api.py?line=205'>206</a>\u001b[0m \n\u001b[0;32m   (...)\u001b[0m\n\u001b[1;32m    <a href='file:///home/deepesh/.local/lib/python3.8/site-packages/face_recognition/api.py?line=210'>211</a>\u001b[0m \u001b[39m:return: A list of 128-dimensional face encodings (one for each face in the image)\u001b[39;00m\n\u001b[1;32m    <a href='file:///home/deepesh/.local/lib/python3.8/site-packages/face_recognition/api.py?line=211'>212</a>\u001b[0m \u001b[39m\"\"\"\u001b[39;00m\n\u001b[1;32m    <a href='file:///home/deepesh/.local/lib/python3.8/site-packages/face_recognition/api.py?line=212'>213</a>\u001b[0m raw_landmarks \u001b[39m=\u001b[39m _raw_face_landmarks(face_image, known_face_locations, model)\n\u001b[0;32m--> <a href='file:///home/deepesh/.local/lib/python3.8/site-packages/face_recognition/api.py?line=213'>214</a>\u001b[0m \u001b[39mreturn\u001b[39;00m [np\u001b[39m.\u001b[39marray(face_encoder\u001b[39m.\u001b[39mcompute_face_descriptor(face_image, raw_landmark_set, num_jitters)) \u001b[39mfor\u001b[39;00m raw_landmark_set \u001b[39min\u001b[39;00m raw_landmarks]\n",
      "File \u001b[0;32m~/.local/lib/python3.8/site-packages/face_recognition/api.py:214\u001b[0m, in \u001b[0;36m<listcomp>\u001b[0;34m(.0)\u001b[0m\n\u001b[1;32m    <a href='file:///home/deepesh/.local/lib/python3.8/site-packages/face_recognition/api.py?line=203'>204</a>\u001b[0m \u001b[39m\"\"\"\u001b[39;00m\n\u001b[1;32m    <a href='file:///home/deepesh/.local/lib/python3.8/site-packages/face_recognition/api.py?line=204'>205</a>\u001b[0m \u001b[39mGiven an image, return the 128-dimension face encoding for each face in the image.\u001b[39;00m\n\u001b[1;32m    <a href='file:///home/deepesh/.local/lib/python3.8/site-packages/face_recognition/api.py?line=205'>206</a>\u001b[0m \n\u001b[0;32m   (...)\u001b[0m\n\u001b[1;32m    <a href='file:///home/deepesh/.local/lib/python3.8/site-packages/face_recognition/api.py?line=210'>211</a>\u001b[0m \u001b[39m:return: A list of 128-dimensional face encodings (one for each face in the image)\u001b[39;00m\n\u001b[1;32m    <a href='file:///home/deepesh/.local/lib/python3.8/site-packages/face_recognition/api.py?line=211'>212</a>\u001b[0m \u001b[39m\"\"\"\u001b[39;00m\n\u001b[1;32m    <a href='file:///home/deepesh/.local/lib/python3.8/site-packages/face_recognition/api.py?line=212'>213</a>\u001b[0m raw_landmarks \u001b[39m=\u001b[39m _raw_face_landmarks(face_image, known_face_locations, model)\n\u001b[0;32m--> <a href='file:///home/deepesh/.local/lib/python3.8/site-packages/face_recognition/api.py?line=213'>214</a>\u001b[0m \u001b[39mreturn\u001b[39;00m [np\u001b[39m.\u001b[39marray(face_encoder\u001b[39m.\u001b[39;49mcompute_face_descriptor(face_image, raw_landmark_set, num_jitters)) \u001b[39mfor\u001b[39;00m raw_landmark_set \u001b[39min\u001b[39;00m raw_landmarks]\n",
      "\u001b[0;31mKeyboardInterrupt\u001b[0m: "
     ]
    }
   ],
   "source": [
    "cap = cv2.VideoCapture(0)\n",
    " \n",
    "while True:\n",
    "    success, img = cap.read()\n",
    "    #img = captureScreen()\n",
    "    imgS = cv2.resize(img,(0,0),None,0.25,0.25)\n",
    "    imgS = cv2.cvtColor(imgS, cv2.COLOR_BGR2RGB)\n",
    " \n",
    "    facesCurFrame = face_recognition.face_locations(imgS)\n",
    "    encodesCurFrame = face_recognition.face_encodings(imgS,facesCurFrame)\n",
    " \n",
    "    for encodeFace,faceLoc in zip(encodesCurFrame,facesCurFrame):\n",
    "        matches = face_recognition.compare_faces(encodeListkmown,encodeFace)\n",
    "        faceDis = face_recognition.face_distance(encodeListkmown,encodeFace)\n",
    "        #print(faceDis)\n",
    "        matchIndex = np.argmin(faceDis)\n",
    " \n",
    "        if matches[matchIndex]:\n",
    "            name = classnames[matchIndex].upper()\n",
    "            #print(name)\n",
    "            y1,x2,y2,x1 = faceLoc\n",
    "            y1, x2, y2, x1 = y1*4,x2*4,y2*4,x1*4\n",
    "            cv2.rectangle(img,(x1,y1),(x2,y2),(0,255,0),2)\n",
    "            cv2.rectangle(img,(x1,y2-35),(x2,y2),(0,255,0),cv2.FILLED)\n",
    "            cv2.putText(img,name,(x1+6,y2-6),cv2.FONT_HERSHEY_COMPLEX,1,(255,255,255),2)\n",
    "            markAttendence(name)\n",
    " \n",
    "cv2.imshow('Webcam',img)\n",
    "cv2.waitKey(1)"
   ]
  }
 ],
 "metadata": {
  "interpreter": {
   "hash": "916dbcbb3f70747c44a77c7bcd40155683ae19c65e1c03b4aa3499c5328201f1"
  },
  "kernelspec": {
   "display_name": "Python 3.8.10 64-bit",
   "language": "python",
   "name": "python3"
  },
  "language_info": {
   "codemirror_mode": {
    "name": "ipython",
    "version": 3
   },
   "file_extension": ".py",
   "mimetype": "text/x-python",
   "name": "python",
   "nbconvert_exporter": "python",
   "pygments_lexer": "ipython3",
   "version": "3.8.10"
  },
  "orig_nbformat": 4
 },
 "nbformat": 4,
 "nbformat_minor": 2
}
